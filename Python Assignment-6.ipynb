{
 "cells": [
  {
   "cell_type": "markdown",
   "metadata": {},
   "source": [
    "# 6. Write a function called matches that takes two strings as arguments and returns how many matches there are between the strings. A match is where the two strings have the same character at the same index. For instance, ' python ' and ' path ' match in the first, third, and fourth characters, so the function should return 3."
   ]
  },
  {
   "cell_type": "code",
   "execution_count": 3,
   "metadata": {},
   "outputs": [
    {
     "name": "stdout",
     "output_type": "stream",
     "text": [
      "Number of matched characters: 4\n"
     ]
    }
   ],
   "source": [
    "def matches(str_1, str_2): # function name\n",
    "  \n",
    "    # set(str_1): set of characters of first string\n",
    "    # set(str_2): set of characters of second string\n",
    "    \n",
    "    match = set(str_1) & set(str_2) # finds the matches between two strings  \n",
    "     \n",
    "    # prints the number of matched characters between the strings\n",
    "    print 'Number of matched characters: ' +str(len(match))\n",
    "\n",
    "matches('Robert','Hobart') # calling function with arguments"
   ]
  },
  {
   "cell_type": "code",
   "execution_count": null,
   "metadata": {},
   "outputs": [],
   "source": []
  }
 ],
 "metadata": {
  "kernelspec": {
   "display_name": "Python 2",
   "language": "python",
   "name": "python2"
  },
  "language_info": {
   "codemirror_mode": {
    "name": "ipython",
    "version": 2
   },
   "file_extension": ".py",
   "mimetype": "text/x-python",
   "name": "python",
   "nbconvert_exporter": "python",
   "pygments_lexer": "ipython2",
   "version": "2.7.15"
  }
 },
 "nbformat": 4,
 "nbformat_minor": 2
}
