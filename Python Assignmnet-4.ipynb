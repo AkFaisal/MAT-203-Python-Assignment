{
 "cells": [
  {
   "cell_type": "markdown",
   "metadata": {},
   "source": [
    "# 4. The digital root of a number n is obtained as follows: Add up the digits n to get a new number. Add up the digits of that to get another new number. Keep doing this until you get a number that has only one digit. That number is the digital root. For example, if n = 45893 , we add up the digits to get 4 + 5 + 8 + 9 + 3 = 29 . We then add up the digits of 29 to get 2 + 9 = 11 . We then add up the digits of 11 to get 1 + 1 = 2 . Since 2 has only one digit, 2 is our digital root. Write a function that returns the digital root of an integer n . [Note: there is a shortcut, where the digital root is equal to n mod 9, but do not use that here.]"
   ]
  },
  {
   "cell_type": "code",
   "execution_count": 4,
   "metadata": {},
   "outputs": [
    {
     "name": "stdout",
     "output_type": "stream",
     "text": [
      "Enter an integer: 5683\n",
      "Digital Root is:  4\n"
     ]
    }
   ],
   "source": [
    "def digi_root():\n",
    "    \n",
    "    n = input(\"Enter an integer: \") # it will take input of the integer \n",
    "    sum = 0\n",
    "    while(n > 0 or sum > 9):\n",
    "            \n",
    "        if(n == 0): # here ,if the input is 0, the sum will be 0\n",
    "            n = sum\n",
    "            sum = 0\n",
    "        # and if input is grater than 0\n",
    "        else:\n",
    "            sum = sum + (n % 10)\n",
    "            n = n / 10\n",
    "    \n",
    "    print \"Digital Root is: \", sum\n",
    "\n",
    "digi_root() # here this is a calling function"
   ]
  },
  {
   "cell_type": "code",
   "execution_count": null,
   "metadata": {},
   "outputs": [],
   "source": []
  }
 ],
 "metadata": {
  "kernelspec": {
   "display_name": "Python 2",
   "language": "python",
   "name": "python2"
  },
  "language_info": {
   "codemirror_mode": {
    "name": "ipython",
    "version": 2
   },
   "file_extension": ".py",
   "mimetype": "text/x-python",
   "name": "python",
   "nbconvert_exporter": "python",
   "pygments_lexer": "ipython2",
   "version": "2.7.15"
  }
 },
 "nbformat": 4,
 "nbformat_minor": 2
}
